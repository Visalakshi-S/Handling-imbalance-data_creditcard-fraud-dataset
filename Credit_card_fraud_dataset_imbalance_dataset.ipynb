{
  "nbformat": 4,
  "nbformat_minor": 0,
  "metadata": {
    "colab": {
      "name": "Credit card fraud dataset_imbalance dataset.ipynb",
      "provenance": []
    },
    "kernelspec": {
      "name": "python3",
      "display_name": "Python 3"
    }
  },
  "cells": [
    {
      "cell_type": "code",
      "metadata": {
        "id": "5BR6kJdIBxKi"
      },
      "source": [
        "import pandas as pd\r\n",
        "import matplotlib.pyplot as plt\r\n",
        "import seaborn as sns\r\n",
        "from sklearn.model_selection import train_test_split\r\n",
        "from sklearn.preprocessing import LabelEncoder\r\n",
        "from sklearn.linear_model import LogisticRegression\r\n",
        "from sklearn.metrics import f1_score, confusion_matrix\r\n",
        "from sklearn.metrics import precision_score, recall_score\r\n",
        "from sklearn.metrics import roc_auc_score"
      ],
      "execution_count": 90,
      "outputs": []
    },
    {
      "cell_type": "code",
      "metadata": {
        "id": "-BOG5VJMCTuL"
      },
      "source": [
        "path=\"/content/drive/MyDrive/Colab_Notebooks/creditcard_new.csv\"\r\n",
        "data=pd.read_csv(path)"
      ],
      "execution_count": 91,
      "outputs": []
    },
    {
      "cell_type": "markdown",
      "metadata": {
        "id": "L0BE93cDGzhg"
      },
      "source": [
        "Reading the dataset"
      ]
    },
    {
      "cell_type": "code",
      "metadata": {
        "colab": {
          "base_uri": "https://localhost:8080/",
          "height": 217
        },
        "id": "Xiic_ZlkCwYz",
        "outputId": "ef3ca0df-5d03-4bf6-b89b-0edfd904addf"
      },
      "source": [
        "data.head()"
      ],
      "execution_count": 92,
      "outputs": [
        {
          "output_type": "execute_result",
          "data": {
            "text/html": [
              "<div>\n",
              "<style scoped>\n",
              "    .dataframe tbody tr th:only-of-type {\n",
              "        vertical-align: middle;\n",
              "    }\n",
              "\n",
              "    .dataframe tbody tr th {\n",
              "        vertical-align: top;\n",
              "    }\n",
              "\n",
              "    .dataframe thead th {\n",
              "        text-align: right;\n",
              "    }\n",
              "</style>\n",
              "<table border=\"1\" class=\"dataframe\">\n",
              "  <thead>\n",
              "    <tr style=\"text-align: right;\">\n",
              "      <th></th>\n",
              "      <th>Time</th>\n",
              "      <th>V1</th>\n",
              "      <th>V2</th>\n",
              "      <th>V3</th>\n",
              "      <th>V4</th>\n",
              "      <th>V5</th>\n",
              "      <th>V6</th>\n",
              "      <th>V7</th>\n",
              "      <th>V8</th>\n",
              "      <th>V9</th>\n",
              "      <th>V10</th>\n",
              "      <th>V11</th>\n",
              "      <th>V12</th>\n",
              "      <th>V13</th>\n",
              "      <th>V14</th>\n",
              "      <th>V15</th>\n",
              "      <th>V16</th>\n",
              "      <th>V17</th>\n",
              "      <th>V18</th>\n",
              "      <th>V19</th>\n",
              "      <th>V20</th>\n",
              "      <th>V21</th>\n",
              "      <th>V22</th>\n",
              "      <th>V23</th>\n",
              "      <th>V24</th>\n",
              "      <th>V25</th>\n",
              "      <th>V26</th>\n",
              "      <th>V27</th>\n",
              "      <th>V28</th>\n",
              "      <th>Amount</th>\n",
              "      <th>Class</th>\n",
              "    </tr>\n",
              "  </thead>\n",
              "  <tbody>\n",
              "    <tr>\n",
              "      <th>0</th>\n",
              "      <td>39885.0</td>\n",
              "      <td>1.385745</td>\n",
              "      <td>-0.776183</td>\n",
              "      <td>-1.276504</td>\n",
              "      <td>-1.732802</td>\n",
              "      <td>1.456010</td>\n",
              "      <td>3.169421</td>\n",
              "      <td>-0.884741</td>\n",
              "      <td>0.730740</td>\n",
              "      <td>-1.056017</td>\n",
              "      <td>0.713167</td>\n",
              "      <td>-0.218860</td>\n",
              "      <td>-0.240696</td>\n",
              "      <td>0.338432</td>\n",
              "      <td>0.265175</td>\n",
              "      <td>1.043175</td>\n",
              "      <td>-0.922621</td>\n",
              "      <td>-0.527346</td>\n",
              "      <td>1.134256</td>\n",
              "      <td>-0.303786</td>\n",
              "      <td>-0.278362</td>\n",
              "      <td>-0.621874</td>\n",
              "      <td>-1.564708</td>\n",
              "      <td>0.123824</td>\n",
              "      <td>1.000517</td>\n",
              "      <td>0.209903</td>\n",
              "      <td>0.827916</td>\n",
              "      <td>-0.064076</td>\n",
              "      <td>0.009821</td>\n",
              "      <td>41.94</td>\n",
              "      <td>0</td>\n",
              "    </tr>\n",
              "    <tr>\n",
              "      <th>1</th>\n",
              "      <td>160679.0</td>\n",
              "      <td>-1.509015</td>\n",
              "      <td>1.445546</td>\n",
              "      <td>-0.288465</td>\n",
              "      <td>-2.599796</td>\n",
              "      <td>0.031683</td>\n",
              "      <td>-1.161685</td>\n",
              "      <td>0.473007</td>\n",
              "      <td>0.802321</td>\n",
              "      <td>-0.222380</td>\n",
              "      <td>-1.179713</td>\n",
              "      <td>0.195041</td>\n",
              "      <td>0.714064</td>\n",
              "      <td>-0.630985</td>\n",
              "      <td>1.022945</td>\n",
              "      <td>-1.175383</td>\n",
              "      <td>0.793291</td>\n",
              "      <td>-0.778849</td>\n",
              "      <td>-0.133946</td>\n",
              "      <td>-0.448680</td>\n",
              "      <td>-0.211434</td>\n",
              "      <td>-0.202615</td>\n",
              "      <td>-0.777421</td>\n",
              "      <td>-0.045253</td>\n",
              "      <td>-0.348450</td>\n",
              "      <td>0.002970</td>\n",
              "      <td>0.383022</td>\n",
              "      <td>0.076898</td>\n",
              "      <td>0.082978</td>\n",
              "      <td>4.00</td>\n",
              "      <td>0</td>\n",
              "    </tr>\n",
              "    <tr>\n",
              "      <th>2</th>\n",
              "      <td>170043.0</td>\n",
              "      <td>-1.329675</td>\n",
              "      <td>1.671851</td>\n",
              "      <td>-0.668253</td>\n",
              "      <td>-1.316477</td>\n",
              "      <td>0.888102</td>\n",
              "      <td>-0.419414</td>\n",
              "      <td>-0.257771</td>\n",
              "      <td>-2.296987</td>\n",
              "      <td>-0.658676</td>\n",
              "      <td>-2.230920</td>\n",
              "      <td>-1.317068</td>\n",
              "      <td>0.107068</td>\n",
              "      <td>-0.386966</td>\n",
              "      <td>-0.267808</td>\n",
              "      <td>-1.014667</td>\n",
              "      <td>1.074517</td>\n",
              "      <td>0.202642</td>\n",
              "      <td>-0.141505</td>\n",
              "      <td>-1.335116</td>\n",
              "      <td>0.283837</td>\n",
              "      <td>-1.505724</td>\n",
              "      <td>-0.501284</td>\n",
              "      <td>0.140584</td>\n",
              "      <td>0.347481</td>\n",
              "      <td>-0.345795</td>\n",
              "      <td>-0.072878</td>\n",
              "      <td>-0.079008</td>\n",
              "      <td>0.114091</td>\n",
              "      <td>1.29</td>\n",
              "      <td>0</td>\n",
              "    </tr>\n",
              "    <tr>\n",
              "      <th>3</th>\n",
              "      <td>29820.0</td>\n",
              "      <td>-1.300095</td>\n",
              "      <td>1.004770</td>\n",
              "      <td>1.226453</td>\n",
              "      <td>0.143031</td>\n",
              "      <td>0.302872</td>\n",
              "      <td>-0.473174</td>\n",
              "      <td>1.110003</td>\n",
              "      <td>0.105973</td>\n",
              "      <td>-0.758082</td>\n",
              "      <td>-0.667729</td>\n",
              "      <td>-0.304014</td>\n",
              "      <td>0.210848</td>\n",
              "      <td>0.023966</td>\n",
              "      <td>0.416715</td>\n",
              "      <td>0.498277</td>\n",
              "      <td>0.097547</td>\n",
              "      <td>-0.352279</td>\n",
              "      <td>-1.055449</td>\n",
              "      <td>-1.055637</td>\n",
              "      <td>-0.230467</td>\n",
              "      <td>-0.357558</td>\n",
              "      <td>-1.149148</td>\n",
              "      <td>0.012885</td>\n",
              "      <td>0.003805</td>\n",
              "      <td>-0.212856</td>\n",
              "      <td>-1.001165</td>\n",
              "      <td>-0.249979</td>\n",
              "      <td>-0.272285</td>\n",
              "      <td>83.00</td>\n",
              "      <td>0</td>\n",
              "    </tr>\n",
              "    <tr>\n",
              "      <th>4</th>\n",
              "      <td>84933.0</td>\n",
              "      <td>-1.209733</td>\n",
              "      <td>1.249704</td>\n",
              "      <td>1.185233</td>\n",
              "      <td>-0.112195</td>\n",
              "      <td>0.388526</td>\n",
              "      <td>-0.921451</td>\n",
              "      <td>1.410460</td>\n",
              "      <td>-0.761339</td>\n",
              "      <td>0.480302</td>\n",
              "      <td>0.874693</td>\n",
              "      <td>-0.339434</td>\n",
              "      <td>-0.168347</td>\n",
              "      <td>-0.024211</td>\n",
              "      <td>-0.513967</td>\n",
              "      <td>0.377155</td>\n",
              "      <td>0.004339</td>\n",
              "      <td>-0.974215</td>\n",
              "      <td>-0.214786</td>\n",
              "      <td>-1.018686</td>\n",
              "      <td>0.074929</td>\n",
              "      <td>-0.018978</td>\n",
              "      <td>0.304157</td>\n",
              "      <td>-0.212971</td>\n",
              "      <td>0.377686</td>\n",
              "      <td>0.254317</td>\n",
              "      <td>-0.606180</td>\n",
              "      <td>-0.663626</td>\n",
              "      <td>-0.142206</td>\n",
              "      <td>28.00</td>\n",
              "      <td>0</td>\n",
              "    </tr>\n",
              "  </tbody>\n",
              "</table>\n",
              "</div>"
            ],
            "text/plain": [
              "       Time        V1        V2        V3  ...       V27       V28  Amount  Class\n",
              "0   39885.0  1.385745 -0.776183 -1.276504  ... -0.064076  0.009821   41.94      0\n",
              "1  160679.0 -1.509015  1.445546 -0.288465  ...  0.076898  0.082978    4.00      0\n",
              "2  170043.0 -1.329675  1.671851 -0.668253  ... -0.079008  0.114091    1.29      0\n",
              "3   29820.0 -1.300095  1.004770  1.226453  ... -0.249979 -0.272285   83.00      0\n",
              "4   84933.0 -1.209733  1.249704  1.185233  ... -0.663626 -0.142206   28.00      0\n",
              "\n",
              "[5 rows x 31 columns]"
            ]
          },
          "metadata": {
            "tags": []
          },
          "execution_count": 92
        }
      ]
    },
    {
      "cell_type": "markdown",
      "metadata": {
        "id": "ckTBpRjVG3wG"
      },
      "source": [
        "Splitting into X(features) & Y(target)"
      ]
    },
    {
      "cell_type": "code",
      "metadata": {
        "colab": {
          "base_uri": "https://localhost:8080/"
        },
        "id": "uKdfRzk2C0Lh",
        "outputId": "4f260fcd-2d44-4f05-e9ee-2c245047b1b6"
      },
      "source": [
        "X= data.iloc[:,:30]\r\n",
        "y=data.iloc[:,-1]\r\n",
        "print(y)"
      ],
      "execution_count": 93,
      "outputs": [
        {
          "output_type": "stream",
          "text": [
            "0         0\n",
            "1         0\n",
            "2         0\n",
            "3         0\n",
            "4         0\n",
            "         ..\n",
            "113918    0\n",
            "113919    0\n",
            "113920    0\n",
            "113921    0\n",
            "113922    0\n",
            "Name: Class, Length: 113923, dtype: int64\n"
          ],
          "name": "stdout"
        }
      ]
    },
    {
      "cell_type": "markdown",
      "metadata": {
        "id": "9VgajkBLG994"
      },
      "source": [
        "Splitting into train & test data set"
      ]
    },
    {
      "cell_type": "code",
      "metadata": {
        "id": "Qi5cFeAHDGxY"
      },
      "source": [
        "X_train,X_test,y_train,y_test = train_test_split(X,y,test_size=0.3,stratify=y,random_state=0)"
      ],
      "execution_count": 94,
      "outputs": []
    },
    {
      "cell_type": "markdown",
      "metadata": {
        "id": "xUpLd59-HA4e"
      },
      "source": [
        "INitiaslizing the model & predicting the values"
      ]
    },
    {
      "cell_type": "code",
      "metadata": {
        "colab": {
          "base_uri": "https://localhost:8080/"
        },
        "id": "qzKtQrBYDufZ",
        "outputId": "67fd6164-748a-4b01-f843-739cbb56819e"
      },
      "source": [
        "model =LogisticRegression(random_state=0)\r\n",
        "model.fit(X_train,y_train)\r\n",
        "y_pred = model.predict(X_test)\r\n"
      ],
      "execution_count": 95,
      "outputs": [
        {
          "output_type": "stream",
          "text": [
            "/usr/local/lib/python3.6/dist-packages/sklearn/linear_model/_logistic.py:940: ConvergenceWarning: lbfgs failed to converge (status=1):\n",
            "STOP: TOTAL NO. of ITERATIONS REACHED LIMIT.\n",
            "\n",
            "Increase the number of iterations (max_iter) or scale the data as shown in:\n",
            "    https://scikit-learn.org/stable/modules/preprocessing.html\n",
            "Please also refer to the documentation for alternative solver options:\n",
            "    https://scikit-learn.org/stable/modules/linear_model.html#logistic-regression\n",
            "  extra_warning_msg=_LOGISTIC_SOLVER_CONVERGENCE_MSG)\n"
          ],
          "name": "stderr"
        }
      ]
    },
    {
      "cell_type": "markdown",
      "metadata": {
        "id": "D2wHFsCoHE8o"
      },
      "source": [
        "Checking the accuracy using score, recall,precision,f1 & confusion matrix"
      ]
    },
    {
      "cell_type": "code",
      "metadata": {
        "colab": {
          "base_uri": "https://localhost:8080/"
        },
        "id": "JqwLRkOUD8-o",
        "outputId": "a591360e-60f7-4938-b8b9-3d83b2b6f563"
      },
      "source": [
        "accuracy=model.score(X_test,y_test)\r\n",
        "print(accuracy)"
      ],
      "execution_count": 96,
      "outputs": [
        {
          "output_type": "stream",
          "text": [
            "0.9990636978084677\n"
          ],
          "name": "stdout"
        }
      ]
    },
    {
      "cell_type": "code",
      "metadata": {
        "colab": {
          "base_uri": "https://localhost:8080/"
        },
        "id": "87FFDZVQFLLY",
        "outputId": "ae2bd58f-77b8-418f-9d31-767566e646bf"
      },
      "source": [
        "recall = recall_score(y_test,y_pred)\r\n",
        "print(recall)"
      ],
      "execution_count": 97,
      "outputs": [
        {
          "output_type": "stream",
          "text": [
            "0.7966101694915254\n"
          ],
          "name": "stdout"
        }
      ]
    },
    {
      "cell_type": "code",
      "metadata": {
        "colab": {
          "base_uri": "https://localhost:8080/"
        },
        "id": "GPw0u6llFsZf",
        "outputId": "471d620d-625c-48cd-cfd7-4ef5b77b2c8b"
      },
      "source": [
        "precision = precision_score(y_test,y_pred)\r\n",
        "print(precision)"
      ],
      "execution_count": 98,
      "outputs": [
        {
          "output_type": "stream",
          "text": [
            "0.7014925373134329\n"
          ],
          "name": "stdout"
        }
      ]
    },
    {
      "cell_type": "code",
      "metadata": {
        "colab": {
          "base_uri": "https://localhost:8080/"
        },
        "id": "l1Hi1ilTGCxu",
        "outputId": "d9312dd8-5f01-4402-e54d-65de7c46c8e9"
      },
      "source": [
        "f1 = f1_score(y_test,y_pred)\r\n",
        "print(f1)"
      ],
      "execution_count": 99,
      "outputs": [
        {
          "output_type": "stream",
          "text": [
            "0.746031746031746\n"
          ],
          "name": "stdout"
        }
      ]
    },
    {
      "cell_type": "code",
      "metadata": {
        "colab": {
          "base_uri": "https://localhost:8080/"
        },
        "id": "aRZj24pDGSM_",
        "outputId": "81900058-e305-40b1-b6b6-63727e38018b"
      },
      "source": [
        "confusion_mat = confusion_matrix(y_test,y_pred)\r\n",
        "print(confusion_mat)"
      ],
      "execution_count": 100,
      "outputs": [
        {
          "output_type": "stream",
          "text": [
            "[[34098    20]\n",
            " [   12    47]]\n"
          ],
          "name": "stdout"
        }
      ]
    },
    {
      "cell_type": "markdown",
      "metadata": {
        "id": "lV0WZ5DCKoiW"
      },
      "source": [
        "Let's now try to see if random undersampling will improve the performance of our ML model"
      ]
    },
    {
      "cell_type": "code",
      "metadata": {
        "id": "bXgU8xpiGccX"
      },
      "source": [
        "from imblearn.under_sampling import RandomUnderSampler\r\n",
        "rus=RandomUnderSampler(random_state=0)"
      ],
      "execution_count": 101,
      "outputs": []
    },
    {
      "cell_type": "code",
      "metadata": {
        "colab": {
          "base_uri": "https://localhost:8080/"
        },
        "id": "XHmeuYT0HhtI",
        "outputId": "6e5c2a4f-4c57-4027-e54c-51446844e9ab"
      },
      "source": [
        "X_sample2,y_sample2=rus.fit_sample(X_train,y_train)\r\n",
        "model_rus=LogisticRegression(random_state=0)\r\n",
        "model_rus.fit(X_sample2,y_sample2)\r\n",
        "y_pred=model_rus.predict(X_test)"
      ],
      "execution_count": 102,
      "outputs": [
        {
          "output_type": "stream",
          "text": [
            "/usr/local/lib/python3.6/dist-packages/sklearn/utils/deprecation.py:87: FutureWarning: Function safe_indexing is deprecated; safe_indexing is deprecated in version 0.22 and will be removed in version 0.24.\n",
            "  warnings.warn(msg, category=FutureWarning)\n"
          ],
          "name": "stderr"
        }
      ]
    },
    {
      "cell_type": "code",
      "metadata": {
        "colab": {
          "base_uri": "https://localhost:8080/"
        },
        "id": "XpMZwtF5IG83",
        "outputId": "3e84a878-0b62-4444-8578-1307bd9b2b97"
      },
      "source": [
        "accuracy_rus=model_rus.score(X_test,y_test)\r\n",
        "print(accuracy_rus)"
      ],
      "execution_count": 103,
      "outputs": [
        {
          "output_type": "stream",
          "text": [
            "0.9598560435380519\n"
          ],
          "name": "stdout"
        }
      ]
    },
    {
      "cell_type": "code",
      "metadata": {
        "colab": {
          "base_uri": "https://localhost:8080/"
        },
        "id": "z7md203zJLB9",
        "outputId": "995a6770-c3a8-4a06-b5e7-9e25f0a12c93"
      },
      "source": [
        "recall_rus = recall_score(y_test,y_pred )\r\n",
        "print(recall_rus)"
      ],
      "execution_count": 104,
      "outputs": [
        {
          "output_type": "stream",
          "text": [
            "0.9152542372881356\n"
          ],
          "name": "stdout"
        }
      ]
    },
    {
      "cell_type": "code",
      "metadata": {
        "colab": {
          "base_uri": "https://localhost:8080/"
        },
        "id": "C4tfvNZFJWvm",
        "outputId": "90db0d6c-0811-4b87-cad1-138ea9c57556"
      },
      "source": [
        "precision_rus = precision_score(y_test,y_pred)\r\n",
        "print(precision_rus)"
      ],
      "execution_count": 105,
      "outputs": [
        {
          "output_type": "stream",
          "text": [
            "0.038001407459535536\n"
          ],
          "name": "stdout"
        }
      ]
    },
    {
      "cell_type": "code",
      "metadata": {
        "colab": {
          "base_uri": "https://localhost:8080/"
        },
        "id": "BJHT_rmvJf0t",
        "outputId": "61b91a6a-2bd4-4243-b1ef-ddd8f3663a53"
      },
      "source": [
        "f1_rus =f1_score(y_test,y_pred)\r\n",
        "print(f1_rus)"
      ],
      "execution_count": 106,
      "outputs": [
        {
          "output_type": "stream",
          "text": [
            "0.07297297297297296\n"
          ],
          "name": "stdout"
        }
      ]
    },
    {
      "cell_type": "code",
      "metadata": {
        "colab": {
          "base_uri": "https://localhost:8080/"
        },
        "id": "sUsuLdx-J8l-",
        "outputId": "50415ca0-23d2-49b2-9e3b-0238f04674e0"
      },
      "source": [
        "confusion_mat_rus=confusion_matrix(y_test,y_pred)\r\n",
        "print(confusion_mat_rus)"
      ],
      "execution_count": 107,
      "outputs": [
        {
          "output_type": "stream",
          "text": [
            "[[32751  1367]\n",
            " [    5    54]]\n"
          ],
          "name": "stdout"
        }
      ]
    },
    {
      "cell_type": "markdown",
      "metadata": {
        "id": "PCBJRFqcLLtz"
      },
      "source": [
        "Let's now try to see if cluster centroids will fare better than random undersampling."
      ]
    },
    {
      "cell_type": "code",
      "metadata": {
        "id": "Oh0WXPFuKI39"
      },
      "source": [
        "from imblearn.under_sampling import ClusterCentroids\r\n",
        "cc = ClusterCentroids(random_state=0)"
      ],
      "execution_count": 108,
      "outputs": []
    },
    {
      "cell_type": "code",
      "metadata": {
        "colab": {
          "base_uri": "https://localhost:8080/"
        },
        "id": "B-J1_wuzLmz1",
        "outputId": "066d8127-bef2-4173-ce15-e8af71b0c5f2"
      },
      "source": [
        "X_sample3,y_sample3 = cc.fit_sample(X_train,y_train)\r\n",
        "model_cc = LogisticRegression(random_state= 0)\r\n",
        "model_cc.fit(X_sample3,y_sample3)\r\n",
        "y_pred =model_cc.predict(X_test)"
      ],
      "execution_count": 109,
      "outputs": [
        {
          "output_type": "stream",
          "text": [
            "/usr/local/lib/python3.6/dist-packages/sklearn/utils/deprecation.py:87: FutureWarning: Function safe_indexing is deprecated; safe_indexing is deprecated in version 0.22 and will be removed in version 0.24.\n",
            "  warnings.warn(msg, category=FutureWarning)\n"
          ],
          "name": "stderr"
        }
      ]
    },
    {
      "cell_type": "code",
      "metadata": {
        "colab": {
          "base_uri": "https://localhost:8080/"
        },
        "id": "ejectnz5LzuE",
        "outputId": "1977be7c-1bf1-4148-800d-330ed4d3f0fb"
      },
      "source": [
        "accuracy_cc=model_cc.score(X_test,y_test)\r\n",
        "print(accuracy_cc)\r\n"
      ],
      "execution_count": 110,
      "outputs": [
        {
          "output_type": "stream",
          "text": [
            "0.913947976709483\n"
          ],
          "name": "stdout"
        }
      ]
    },
    {
      "cell_type": "code",
      "metadata": {
        "colab": {
          "base_uri": "https://localhost:8080/"
        },
        "id": "t60BHTaWMojN",
        "outputId": "78c4de78-07df-4041-ffa6-3f8aad4b0190"
      },
      "source": [
        "recall_cc = recall_score(y_test,y_pred )\r\n",
        "print(recall_cc)"
      ],
      "execution_count": 111,
      "outputs": [
        {
          "output_type": "stream",
          "text": [
            "0.9491525423728814\n"
          ],
          "name": "stdout"
        }
      ]
    },
    {
      "cell_type": "code",
      "metadata": {
        "colab": {
          "base_uri": "https://localhost:8080/"
        },
        "id": "uXrp9QzdMtbS",
        "outputId": "44a98395-f61f-4fef-ed1b-4da9a14f7644"
      },
      "source": [
        "precision_cc = precision_score(y_test,y_pred)\r\n",
        "print(precision_cc)"
      ],
      "execution_count": 112,
      "outputs": [
        {
          "output_type": "stream",
          "text": [
            "0.018704074816299265\n"
          ],
          "name": "stdout"
        }
      ]
    },
    {
      "cell_type": "code",
      "metadata": {
        "colab": {
          "base_uri": "https://localhost:8080/"
        },
        "id": "YNiGBF1XMvaD",
        "outputId": "7f9849b6-fa0a-4a9c-e12c-ac46ca448d1d"
      },
      "source": [
        "f1_cc =f1_score(y_test,y_pred)\r\n",
        "print(f1_cc)"
      ],
      "execution_count": 113,
      "outputs": [
        {
          "output_type": "stream",
          "text": [
            "0.0366852276449394\n"
          ],
          "name": "stdout"
        }
      ]
    },
    {
      "cell_type": "code",
      "metadata": {
        "colab": {
          "base_uri": "https://localhost:8080/"
        },
        "id": "xQOw1aGKMy99",
        "outputId": "56fc380f-a0a3-4756-817b-baa3b422400e"
      },
      "source": [
        "confusion_mat_cc=confusion_matrix(y_test,y_pred)\r\n",
        "print(confusion_mat_cc)"
      ],
      "execution_count": 114,
      "outputs": [
        {
          "output_type": "stream",
          "text": [
            "[[31180  2938]\n",
            " [    3    56]]\n"
          ],
          "name": "stdout"
        }
      ]
    },
    {
      "cell_type": "markdown",
      "metadata": {
        "id": "bUCx4iwrOxzy"
      },
      "source": [
        "Let's see how well our model performs when we undersample using Tomek Links"
      ]
    },
    {
      "cell_type": "code",
      "metadata": {
        "colab": {
          "base_uri": "https://localhost:8080/"
        },
        "id": "aRs7G1rQM3K0",
        "outputId": "a40a6950-c64e-4104-dd8a-6b3a6b032f9a"
      },
      "source": [
        "from imblearn.under_sampling import TomekLinks\r\n",
        "tl = TomekLinks(random_state= 0)\r\n",
        "X_sample4,y_sample4 = tl.fit_sample(X_train,y_train)"
      ],
      "execution_count": 115,
      "outputs": [
        {
          "output_type": "stream",
          "text": [
            "/usr/local/lib/python3.6/dist-packages/sklearn/utils/deprecation.py:87: FutureWarning: Function safe_indexing is deprecated; safe_indexing is deprecated in version 0.22 and will be removed in version 0.24.\n",
            "  warnings.warn(msg, category=FutureWarning)\n"
          ],
          "name": "stderr"
        }
      ]
    },
    {
      "cell_type": "code",
      "metadata": {
        "colab": {
          "base_uri": "https://localhost:8080/"
        },
        "id": "g8R98iIIOY1a",
        "outputId": "a22cf17d-bfe2-4cd7-a3af-2d809acfb084"
      },
      "source": [
        "model_tl = LogisticRegression(random_state=0)\r\n",
        "model_tl.fit(X_sample4,y_sample4)\r\n",
        "y_pred = model_tl.predict(X_test)"
      ],
      "execution_count": 116,
      "outputs": [
        {
          "output_type": "stream",
          "text": [
            "/usr/local/lib/python3.6/dist-packages/sklearn/linear_model/_logistic.py:940: ConvergenceWarning: lbfgs failed to converge (status=1):\n",
            "STOP: TOTAL NO. of ITERATIONS REACHED LIMIT.\n",
            "\n",
            "Increase the number of iterations (max_iter) or scale the data as shown in:\n",
            "    https://scikit-learn.org/stable/modules/preprocessing.html\n",
            "Please also refer to the documentation for alternative solver options:\n",
            "    https://scikit-learn.org/stable/modules/linear_model.html#logistic-regression\n",
            "  extra_warning_msg=_LOGISTIC_SOLVER_CONVERGENCE_MSG)\n"
          ],
          "name": "stderr"
        }
      ]
    },
    {
      "cell_type": "code",
      "metadata": {
        "colab": {
          "base_uri": "https://localhost:8080/"
        },
        "id": "yDTdKsS0O84z",
        "outputId": "7d38413e-8a4c-4351-a1b9-1736f3393a02"
      },
      "source": [
        "accuracy_tl=model_tl.score(X_test,y_test)\r\n",
        "print(accuracy_tl)\r\n"
      ],
      "execution_count": 117,
      "outputs": [
        {
          "output_type": "stream",
          "text": [
            "0.9989174005910407\n"
          ],
          "name": "stdout"
        }
      ]
    },
    {
      "cell_type": "code",
      "metadata": {
        "colab": {
          "base_uri": "https://localhost:8080/"
        },
        "id": "lHjdiX7WPTYa",
        "outputId": "687db729-176b-45a7-dca9-d84fb28d2234"
      },
      "source": [
        "recall_tl = recall_score(y_test,y_pred )\r\n",
        "print(recall_tl)"
      ],
      "execution_count": 118,
      "outputs": [
        {
          "output_type": "stream",
          "text": [
            "0.7288135593220338\n"
          ],
          "name": "stdout"
        }
      ]
    },
    {
      "cell_type": "code",
      "metadata": {
        "colab": {
          "base_uri": "https://localhost:8080/"
        },
        "id": "ewa1bIaSPYTm",
        "outputId": "837e0539-09b3-403e-b470-e958d942ee37"
      },
      "source": [
        "precision_tl = precision_score(y_test,y_pred)\r\n",
        "print(precision_tl)"
      ],
      "execution_count": 119,
      "outputs": [
        {
          "output_type": "stream",
          "text": [
            "0.671875\n"
          ],
          "name": "stdout"
        }
      ]
    },
    {
      "cell_type": "code",
      "metadata": {
        "colab": {
          "base_uri": "https://localhost:8080/"
        },
        "id": "kisQ6mQlPdAb",
        "outputId": "09db5802-b7d3-4922-ff01-b5bfae4cac07"
      },
      "source": [
        "f1_tl =f1_score(y_test,y_pred)\r\n",
        "print(f1_tl)\r\n"
      ],
      "execution_count": 120,
      "outputs": [
        {
          "output_type": "stream",
          "text": [
            "0.6991869918699187\n"
          ],
          "name": "stdout"
        }
      ]
    },
    {
      "cell_type": "code",
      "metadata": {
        "colab": {
          "base_uri": "https://localhost:8080/"
        },
        "id": "eEYnEIgrPhkL",
        "outputId": "96eef5f9-31e7-4d6c-acc8-123aaf1dfd78"
      },
      "source": [
        "confusion_mat_tl=confusion_matrix(y_test,y_pred)\r\n",
        "print(confusion_mat_tl)"
      ],
      "execution_count": 121,
      "outputs": [
        {
          "output_type": "stream",
          "text": [
            "[[34097    21]\n",
            " [   16    43]]\n"
          ],
          "name": "stdout"
        }
      ]
    },
    {
      "cell_type": "code",
      "metadata": {
        "colab": {
          "base_uri": "https://localhost:8080/"
        },
        "id": "EUy6CkhkSc_G",
        "outputId": "1a21c798-6976-4876-8d1b-1e7257274d51"
      },
      "source": [
        "pip install -U imbalanced-learn"
      ],
      "execution_count": 122,
      "outputs": [
        {
          "output_type": "stream",
          "text": [
            "Requirement already up-to-date: imbalanced-learn in /usr/local/lib/python3.6/dist-packages (0.7.0)\n",
            "Requirement already satisfied, skipping upgrade: scikit-learn>=0.23 in /usr/local/lib/python3.6/dist-packages (from imbalanced-learn) (0.24.0)\n",
            "Requirement already satisfied, skipping upgrade: numpy>=1.13.3 in /usr/local/lib/python3.6/dist-packages (from imbalanced-learn) (1.19.4)\n",
            "Requirement already satisfied, skipping upgrade: joblib>=0.11 in /usr/local/lib/python3.6/dist-packages (from imbalanced-learn) (1.0.0)\n",
            "Requirement already satisfied, skipping upgrade: scipy>=0.19.1 in /usr/local/lib/python3.6/dist-packages (from imbalanced-learn) (1.4.1)\n",
            "Requirement already satisfied, skipping upgrade: threadpoolctl>=2.0.0 in /usr/local/lib/python3.6/dist-packages (from scikit-learn>=0.23->imbalanced-learn) (2.1.0)\n"
          ],
          "name": "stdout"
        }
      ]
    },
    {
      "cell_type": "markdown",
      "metadata": {
        "id": "ojefB7wsRRS0"
      },
      "source": [
        "Oversampling has an advantage over undersampling in the form of no information loss. Let's see if our logistic regression model works better after random oversampling"
      ]
    },
    {
      "cell_type": "code",
      "metadata": {
        "colab": {
          "base_uri": "https://localhost:8080/",
          "height": 381
        },
        "id": "SwKMqY61PmSS",
        "outputId": "816123d2-7dad-4e09-c4ec-35695f6eafd1"
      },
      "source": [
        "from imblearn.over_sampling import RandomOverSample\r\n",
        "ros = RandomOverSampler(random_state= 0)\r\n",
        "X_sample5,y_sample5 = ros.fit_sample(X_train,y_train)\r\n",
        "model_ros = LogisticRegression(random_state=0)\r\n",
        "model_ros.fit(X_sample5,y_sample5)\r\n",
        "y_pred = model_ros.predict(X_test)\r\n",
        "accuracy_ros=model_ros.score(X_test,y_test)\r\n",
        "print(accuracy_ros)\r\n",
        "recall_ros = recall_score(y_test,y_pred )\r\n",
        "print(recall_ros)\r\n",
        "precision_tl = precision_score(y_test,y_pred)\r\n",
        "print(precision_tl)\r\n",
        "f1_ros =f1_score(y_test,y_pred)\r\n",
        "print(f1_ros)\r\n",
        "confusion_mat_ros=confusion_matrix(y_test,y_pred)\r\n",
        "print(confusion_mat_ros)"
      ],
      "execution_count": 123,
      "outputs": [
        {
          "output_type": "error",
          "ename": "ImportError",
          "evalue": "ignored",
          "traceback": [
            "\u001b[0;31m---------------------------------------------------------------------------\u001b[0m",
            "\u001b[0;31mImportError\u001b[0m                               Traceback (most recent call last)",
            "\u001b[0;32m<ipython-input-123-73d0db7a8999>\u001b[0m in \u001b[0;36m<module>\u001b[0;34m()\u001b[0m\n\u001b[0;32m----> 1\u001b[0;31m \u001b[0;32mfrom\u001b[0m \u001b[0mimblearn\u001b[0m\u001b[0;34m.\u001b[0m\u001b[0mover_sampling\u001b[0m \u001b[0;32mimport\u001b[0m \u001b[0mRandomOverSample\u001b[0m\u001b[0;34m\u001b[0m\u001b[0;34m\u001b[0m\u001b[0m\n\u001b[0m\u001b[1;32m      2\u001b[0m \u001b[0mros\u001b[0m \u001b[0;34m=\u001b[0m \u001b[0mRandomOverSampler\u001b[0m\u001b[0;34m(\u001b[0m\u001b[0mrandom_state\u001b[0m\u001b[0;34m=\u001b[0m \u001b[0;36m0\u001b[0m\u001b[0;34m)\u001b[0m\u001b[0;34m\u001b[0m\u001b[0;34m\u001b[0m\u001b[0m\n\u001b[1;32m      3\u001b[0m \u001b[0mX_sample5\u001b[0m\u001b[0;34m,\u001b[0m\u001b[0my_sample5\u001b[0m \u001b[0;34m=\u001b[0m \u001b[0mros\u001b[0m\u001b[0;34m.\u001b[0m\u001b[0mfit_sample\u001b[0m\u001b[0;34m(\u001b[0m\u001b[0mX_train\u001b[0m\u001b[0;34m,\u001b[0m\u001b[0my_train\u001b[0m\u001b[0;34m)\u001b[0m\u001b[0;34m\u001b[0m\u001b[0;34m\u001b[0m\u001b[0m\n\u001b[1;32m      4\u001b[0m \u001b[0mmodel_ros\u001b[0m \u001b[0;34m=\u001b[0m \u001b[0mLogisticRegression\u001b[0m\u001b[0;34m(\u001b[0m\u001b[0mrandom_state\u001b[0m\u001b[0;34m=\u001b[0m\u001b[0;36m0\u001b[0m\u001b[0;34m)\u001b[0m\u001b[0;34m\u001b[0m\u001b[0;34m\u001b[0m\u001b[0m\n\u001b[1;32m      5\u001b[0m \u001b[0mmodel_ros\u001b[0m\u001b[0;34m.\u001b[0m\u001b[0mfit\u001b[0m\u001b[0;34m(\u001b[0m\u001b[0mX_sample5\u001b[0m\u001b[0;34m,\u001b[0m\u001b[0my_sample5\u001b[0m\u001b[0;34m)\u001b[0m\u001b[0;34m\u001b[0m\u001b[0;34m\u001b[0m\u001b[0m\n",
            "\u001b[0;31mImportError\u001b[0m: cannot import name 'RandomOverSample'",
            "",
            "\u001b[0;31m---------------------------------------------------------------------------\u001b[0;32m\nNOTE: If your import is failing due to a missing package, you can\nmanually install dependencies using either !pip or !apt.\n\nTo view examples of installing some common dependencies, click the\n\"Open Examples\" button below.\n\u001b[0;31m---------------------------------------------------------------------------\u001b[0m\n"
          ]
        }
      ]
    },
    {
      "cell_type": "markdown",
      "metadata": {
        "id": "5AA6h066UoWg"
      },
      "source": [
        "SMOTE Sampling(Synthetic Minority Oversampling Technique)\r\n",
        "Let's see if an advanced technique like SMOTE gives a better performance."
      ]
    },
    {
      "cell_type": "code",
      "metadata": {
        "colab": {
          "base_uri": "https://localhost:8080/"
        },
        "id": "RsHc3WcpR5m0",
        "outputId": "e75a620a-c242-45e0-cd44-720ead02f767"
      },
      "source": [
        "from imblearn.over_sampling import SMOTE\r\n",
        "smote = SMOTE(random_state= 0)\r\n",
        "X_sample6,y_sample6 = smote.fit_sample(X_train,y_train)\r\n",
        "model_smote = LogisticRegression(random_state=0)\r\n",
        "model_smote.fit(X_sample6,y_sample6)\r\n",
        "y_pred = model_smote.predict(X_test)\r\n",
        "accuracy_smote=model_smote.score(X_test,y_test)\r\n",
        "print(accuracy_smote)\r\n",
        "recall_smote = recall_score(y_test,y_pred )\r\n",
        "print(recall_smote)\r\n",
        "precision_smote = precision_score(y_test,y_pred)\r\n",
        "print(precision_smote)\r\n",
        "f1_smote =f1_score(y_test,y_pred)\r\n",
        "print(f1_smote)\r\n",
        "confusion_mat_smote=confusion_matrix(y_test,y_pred)\r\n",
        "print(confusion_mat_smote)"
      ],
      "execution_count": 127,
      "outputs": [
        {
          "output_type": "stream",
          "text": [
            "/usr/local/lib/python3.6/dist-packages/sklearn/utils/deprecation.py:87: FutureWarning: Function safe_indexing is deprecated; safe_indexing is deprecated in version 0.22 and will be removed in version 0.24.\n",
            "  warnings.warn(msg, category=FutureWarning)\n"
          ],
          "name": "stderr"
        },
        {
          "output_type": "stream",
          "text": [
            "0.986394358779296\n",
            "0.8983050847457628\n",
            "0.103515625\n",
            "0.18563922942206654\n",
            "[[33659   459]\n",
            " [    6    53]]\n"
          ],
          "name": "stdout"
        },
        {
          "output_type": "stream",
          "text": [
            "/usr/local/lib/python3.6/dist-packages/sklearn/linear_model/_logistic.py:940: ConvergenceWarning: lbfgs failed to converge (status=1):\n",
            "STOP: TOTAL NO. of ITERATIONS REACHED LIMIT.\n",
            "\n",
            "Increase the number of iterations (max_iter) or scale the data as shown in:\n",
            "    https://scikit-learn.org/stable/modules/preprocessing.html\n",
            "Please also refer to the documentation for alternative solver options:\n",
            "    https://scikit-learn.org/stable/modules/linear_model.html#logistic-regression\n",
            "  extra_warning_msg=_LOGISTIC_SOLVER_CONVERGENCE_MSG)\n"
          ],
          "name": "stderr"
        }
      ]
    },
    {
      "cell_type": "code",
      "metadata": {
        "id": "CTVKjiUsTb8C"
      },
      "source": [
        ""
      ],
      "execution_count": null,
      "outputs": []
    }
  ]
}